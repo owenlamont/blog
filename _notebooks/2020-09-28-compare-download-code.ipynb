{
 "cells": [
  {
   "cell_type": "markdown",
   "metadata": {},
   "source": [
    "# Different download and save approaches in Python\n",
    "> A comparison of synchronous, multiprocess, and async approaches to downloading and saving files\n",
    "\n",
    "- toc: true \n",
    "- badges: true\n",
    "- comments: false\n",
    "- categories: [jupyter]"
   ]
  },
  {
   "cell_type": "markdown",
   "metadata": {},
   "source": [
    "In this example I wanted to demonstrate the big differences in times between downloading files synchronously, in parallel processes, and asynchronously using async and await packages. The results shown here were run on my laptop using a Intel® Core™ i9-9980HK CPU @ 2.40GHz × 16 processor. I download 15 CSV files totalling about 26.7 megabytes at the time of writing.\n",
    "\n",
    "I expect the results to change significantly based on the number and size of the files but I think this nicely demonstrates for a relatively small number of largish files async performs better (slightly) than multi-process which and both are significantly faster than sequential downloading."
   ]
  },
  {
   "cell_type": "markdown",
   "metadata": {},
   "source": [
    "## Requirements"
   ]
  },
  {
   "cell_type": "code",
   "execution_count": null,
   "metadata": {},
   "outputs": [],
   "source": [
    "%%sh\n",
    "conda install -c conda-forge -y aiofiles=0.5 aiohttp=3.6 joblib=0.16 requests=2.24"
   ]
  },
  {
   "cell_type": "markdown",
   "metadata": {},
   "source": [
    "## Prepare a list of CSV files to download"
   ]
  },
  {
   "cell_type": "code",
   "execution_count": 10,
   "metadata": {
    "execution": {
     "iopub.execute_input": "2020-09-28T15:26:15.345377Z",
     "iopub.status.busy": "2020-09-28T15:26:15.344950Z",
     "iopub.status.idle": "2020-09-28T15:26:15.350283Z",
     "shell.execute_reply": "2020-09-28T15:26:15.349322Z",
     "shell.execute_reply.started": "2020-09-28T15:26:15.345326Z"
    }
   },
   "outputs": [],
   "source": [
    "file_url_list = [f\"http://data.wa.aemo.com.au/datafiles/load-summary/load-summary-{year}.csv\" for year in range(2006, 2021)]"
   ]
  },
  {
   "cell_type": "markdown",
   "metadata": {},
   "source": [
    "## Download 15 csv files synchronously"
   ]
  },
  {
   "cell_type": "code",
   "execution_count": 2,
   "metadata": {
    "execution": {
     "iopub.status.idle": "2020-09-28T15:23:59.709346Z",
     "shell.execute_reply": "2020-09-28T15:23:59.708922Z",
     "shell.execute_reply.started": "2020-09-28T15:23:59.642153Z"
    }
   },
   "outputs": [],
   "source": [
    "import requests"
   ]
  },
  {
   "cell_type": "code",
   "execution_count": 3,
   "metadata": {
    "execution": {
     "iopub.execute_input": "2020-09-28T15:23:59.710671Z",
     "iopub.status.busy": "2020-09-28T15:23:59.710449Z",
     "iopub.status.idle": "2020-09-28T15:23:59.713953Z",
     "shell.execute_reply": "2020-09-28T15:23:59.713341Z",
     "shell.execute_reply.started": "2020-09-28T15:23:59.710616Z"
    }
   },
   "outputs": [],
   "source": [
    "def read_load_summary(file_url: str):\n",
    "    response = requests.get(file_url)\n",
    "    if response.status_code == 200:\n",
    "        file_name = file_url.split(\"/\")[-1]\n",
    "        with open(file_name, mode=\"wb\") as file:\n",
    "            file.write(response.content)"
   ]
  },
  {
   "cell_type": "code",
   "execution_count": 4,
   "metadata": {
    "execution": {
     "iopub.execute_input": "2020-09-28T15:23:59.715076Z",
     "iopub.status.busy": "2020-09-28T15:23:59.714830Z",
     "iopub.status.idle": "2020-09-28T15:25:21.533253Z",
     "shell.execute_reply": "2020-09-28T15:25:21.532758Z",
     "shell.execute_reply.started": "2020-09-28T15:23:59.715062Z"
    }
   },
   "outputs": [
    {
     "name": "stdout",
     "output_type": "stream",
     "text": [
      "CPU times: user 608 ms, sys: 307 ms, total: 914 ms\n",
      "Wall time: 1min 21s\n"
     ]
    }
   ],
   "source": [
    "%%time\n",
    "for file_url in file_url_list:\n",
    "    read_load_summary(file_url)"
   ]
  },
  {
   "cell_type": "markdown",
   "metadata": {},
   "source": [
    "## Download 15 csv files in parallel processes using all available cores"
   ]
  },
  {
   "cell_type": "code",
   "execution_count": 5,
   "metadata": {
    "execution": {
     "iopub.execute_input": "2020-09-28T15:25:21.533975Z",
     "iopub.status.busy": "2020-09-28T15:25:21.533875Z",
     "iopub.status.idle": "2020-09-28T15:25:21.621203Z",
     "shell.execute_reply": "2020-09-28T15:25:21.620733Z",
     "shell.execute_reply.started": "2020-09-28T15:25:21.533961Z"
    }
   },
   "outputs": [],
   "source": [
    "from joblib import Parallel, delayed"
   ]
  },
  {
   "cell_type": "code",
   "execution_count": 6,
   "metadata": {
    "execution": {
     "iopub.execute_input": "2020-09-28T15:25:21.622171Z",
     "iopub.status.busy": "2020-09-28T15:25:21.621896Z",
     "iopub.status.idle": "2020-09-28T15:25:30.073993Z",
     "shell.execute_reply": "2020-09-28T15:25:30.073553Z",
     "shell.execute_reply.started": "2020-09-28T15:25:21.622150Z"
    }
   },
   "outputs": [
    {
     "name": "stdout",
     "output_type": "stream",
     "text": [
      "CPU times: user 60.1 ms, sys: 39 ms, total: 99.1 ms\n",
      "Wall time: 8.45 s\n"
     ]
    }
   ],
   "source": [
    "%%time\n",
    "Parallel(n_jobs=-1)(delayed(read_load_summary)(file_url) for file_url in file_url_list)\n",
    "pass # pass just so Jupyter doesn't show the list of null returns from Parallel"
   ]
  },
  {
   "cell_type": "markdown",
   "metadata": {},
   "source": [
    "## Download 15 csv files asynchronously using async and await libraries"
   ]
  },
  {
   "cell_type": "code",
   "execution_count": 7,
   "metadata": {
    "execution": {
     "iopub.execute_input": "2020-09-28T15:25:30.074883Z",
     "iopub.status.busy": "2020-09-28T15:25:30.074768Z",
     "iopub.status.idle": "2020-09-28T15:25:30.125492Z",
     "shell.execute_reply": "2020-09-28T15:25:30.125069Z",
     "shell.execute_reply.started": "2020-09-28T15:25:30.074869Z"
    }
   },
   "outputs": [],
   "source": [
    "import asyncio\n",
    "import aiofiles\n",
    "import aiohttp\n",
    "\n",
    "from typing import List"
   ]
  },
  {
   "cell_type": "code",
   "execution_count": 8,
   "metadata": {
    "execution": {
     "iopub.execute_input": "2020-09-28T15:25:30.126108Z",
     "iopub.status.busy": "2020-09-28T15:25:30.126008Z",
     "iopub.status.idle": "2020-09-28T15:25:30.129569Z",
     "shell.execute_reply": "2020-09-28T15:25:30.129116Z",
     "shell.execute_reply.started": "2020-09-28T15:25:30.126095Z"
    }
   },
   "outputs": [],
   "source": [
    "async def fetch(session: aiohttp.ClientSession, file_url: str):\n",
    "    async with session.get(file_url) as resp:\n",
    "        file_name = file_url.split(\"/\")[-1]\n",
    "        if resp.status == 200:\n",
    "            async with aiofiles.open(file_name, mode=\"wb\") as f:\n",
    "                await f.write(await resp.read())\n",
    "\n",
    "\n",
    "async def download(file_url_list: List[str]):\n",
    "    async with aiohttp.ClientSession() as session:\n",
    "        # If downloading a very large number of files you'd probably need to limit\n",
    "        # the number of concurrent requests that could be sent at once\n",
    "        tasks = [fetch(session, file_url) for file_url in file_url_list]\n",
    "        await asyncio.gather(*tasks)"
   ]
  },
  {
   "cell_type": "code",
   "execution_count": 9,
   "metadata": {
    "execution": {
     "iopub.execute_input": "2020-09-28T15:25:30.131041Z",
     "iopub.status.busy": "2020-09-28T15:25:30.130831Z",
     "iopub.status.idle": "2020-09-28T15:25:34.441232Z",
     "shell.execute_reply": "2020-09-28T15:25:34.440607Z",
     "shell.execute_reply.started": "2020-09-28T15:25:30.131011Z"
    }
   },
   "outputs": [
    {
     "name": "stdout",
     "output_type": "stream",
     "text": [
      "Wall time: 4.3s\n"
     ]
    }
   ],
   "source": [
    "import time\n",
    "t0 = time.time()\n",
    "await download(file_url_list)\n",
    "t1 = time.time()\n",
    "print(f\"Wall time: {t1 - t0:0.2}s\")\n",
    "# Using time functions since %%time magic errors when used in a cell with await"
   ]
  }
 ],
 "metadata": {
  "kernelspec": {
   "display_name": "Python 3",
   "language": "python",
   "name": "python3"
  },
  "language_info": {
   "codemirror_mode": {
    "name": "ipython",
    "version": 3
   },
   "file_extension": ".py",
   "mimetype": "text/x-python",
   "name": "python",
   "nbconvert_exporter": "python",
   "pygments_lexer": "ipython3",
   "version": "3.7.8"
  }
 },
 "nbformat": 4,
 "nbformat_minor": 4
}
