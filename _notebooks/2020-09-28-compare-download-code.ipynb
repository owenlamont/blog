{
 "cells": [
  {
   "cell_type": "markdown",
   "metadata": {},
   "source": [
    "# Different download and save approaches in Python\n",
    "> A comparison of synchronous, multiprocess, and async approaches to downloading and saving files\n",
    "\n",
    "- toc: true \n",
    "- badges: true\n",
    "- comments: false\n",
    "- categories: [jupyter]"
   ]
  },
  {
   "cell_type": "markdown",
   "metadata": {},
   "source": [
    "In this example I wanted to demonstrate the big differences in times between downloading files synchronously, in parallel processes, and asynchronously using async and await packages. The results shown here were run on my laptop using a Intel® Core™ i9-9980HK CPU @ 2.40GHz × 16 processor. I download 15 CSV files totalling about 26.7 megabytes at the time of writing.\n",
    "\n",
    "I expect the results to change significantly based on the number and size of the files but I think this nicely demonstrates for a relatively small number of largish files async performs better (in general - depending on the number of cores available) compared to parallel downloading with multiple processes and asynchronous downloading is significantly faster than synchronous sequential downloading files."
   ]
  },
  {
   "cell_type": "markdown",
   "metadata": {},
   "source": [
    "## Requirements (Conda)"
   ]
  },
  {
   "cell_type": "code",
   "execution_count": null,
   "metadata": {},
   "outputs": [],
   "source": [
    "%conda install -c conda-forge -y aiofiles=0.5 aiohttp=3.6 joblib=0.16 requests=2.24"
   ]
  },
  {
   "cell_type": "markdown",
   "metadata": {},
   "source": [
    "## Requirements (Pip)"
   ]
  },
  {
   "cell_type": "code",
   "execution_count": null,
   "metadata": {},
   "outputs": [],
   "source": [
    "%pip install aiofiles==0.5 aiohttp==3.6 joblib==0.16 requests==2.24"
   ]
  },
  {
   "cell_type": "markdown",
   "metadata": {},
   "source": [
    "## Prepare a list of CSV files to download"
   ]
  },
  {
   "cell_type": "code",
   "execution_count": 3,
   "metadata": {
    "execution": {
     "iopub.execute_input": "2020-09-29T00:43:21.589918Z",
     "iopub.status.busy": "2020-09-29T00:43:21.589386Z",
     "iopub.status.idle": "2020-09-29T00:43:21.594008Z",
     "shell.execute_reply": "2020-09-29T00:43:21.593534Z",
     "shell.execute_reply.started": "2020-09-29T00:43:21.589845Z"
    }
   },
   "outputs": [],
   "source": [
    "file_url_list = [f\"http://data.wa.aemo.com.au/datafiles/load-summary/load-summary-{year}.csv\" for year in range(2006, 2021)]"
   ]
  },
  {
   "cell_type": "markdown",
   "metadata": {},
   "source": [
    "## Download 15 csv files synchronously"
   ]
  },
  {
   "cell_type": "code",
   "execution_count": 4,
   "metadata": {
    "execution": {
     "iopub.execute_input": "2020-09-29T00:43:21.595003Z",
     "iopub.status.busy": "2020-09-29T00:43:21.594847Z",
     "iopub.status.idle": "2020-09-29T00:43:21.631522Z",
     "shell.execute_reply": "2020-09-29T00:43:21.631106Z",
     "shell.execute_reply.started": "2020-09-29T00:43:21.594990Z"
    }
   },
   "outputs": [],
   "source": [
    "import requests"
   ]
  },
  {
   "cell_type": "code",
   "execution_count": 5,
   "metadata": {
    "execution": {
     "iopub.execute_input": "2020-09-29T00:43:21.632087Z",
     "iopub.status.busy": "2020-09-29T00:43:21.631989Z",
     "iopub.status.idle": "2020-09-29T00:43:21.634958Z",
     "shell.execute_reply": "2020-09-29T00:43:21.634358Z",
     "shell.execute_reply.started": "2020-09-29T00:43:21.632074Z"
    }
   },
   "outputs": [],
   "source": [
    "def download_file(file_url: str):\n",
    "    response = requests.get(file_url)\n",
    "    if response.status_code == 200:\n",
    "        file_name = file_url.split(\"/\")[-1]\n",
    "        with open(file_name, mode=\"wb\") as file:\n",
    "            file.write(response.content)"
   ]
  },
  {
   "cell_type": "code",
   "execution_count": 6,
   "metadata": {
    "execution": {
     "iopub.execute_input": "2020-09-29T00:43:21.635803Z",
     "iopub.status.busy": "2020-09-29T00:43:21.635571Z",
     "iopub.status.idle": "2020-09-29T00:44:39.005887Z",
     "shell.execute_reply": "2020-09-29T00:44:39.005357Z",
     "shell.execute_reply.started": "2020-09-29T00:43:21.635768Z"
    }
   },
   "outputs": [
    {
     "name": "stdout",
     "output_type": "stream",
     "text": [
      "CPU times: user 791 ms, sys: 481 ms, total: 1.27 s\n",
      "Wall time: 1min 17s\n"
     ]
    }
   ],
   "source": [
    "%%time\n",
    "for file_url in file_url_list:\n",
    "    download_file(file_url)"
   ]
  },
  {
   "cell_type": "markdown",
   "metadata": {},
   "source": [
    "## Download 15 csv files in parallel processes using all available cores"
   ]
  },
  {
   "cell_type": "code",
   "execution_count": 7,
   "metadata": {
    "execution": {
     "iopub.execute_input": "2020-09-29T00:44:39.006716Z",
     "iopub.status.busy": "2020-09-29T00:44:39.006525Z",
     "iopub.status.idle": "2020-09-29T00:44:39.189680Z",
     "shell.execute_reply": "2020-09-29T00:44:39.189222Z",
     "shell.execute_reply.started": "2020-09-29T00:44:39.006684Z"
    }
   },
   "outputs": [],
   "source": [
    "from joblib import Parallel, delayed"
   ]
  },
  {
   "cell_type": "code",
   "execution_count": 8,
   "metadata": {
    "execution": {
     "iopub.execute_input": "2020-09-29T00:44:39.190556Z",
     "iopub.status.busy": "2020-09-29T00:44:39.190324Z",
     "iopub.status.idle": "2020-09-29T00:44:50.110504Z",
     "shell.execute_reply": "2020-09-29T00:44:50.109800Z",
     "shell.execute_reply.started": "2020-09-29T00:44:39.190534Z"
    }
   },
   "outputs": [
    {
     "name": "stdout",
     "output_type": "stream",
     "text": [
      "CPU times: user 59.6 ms, sys: 91.8 ms, total: 151 ms\n",
      "Wall time: 10.9 s\n"
     ]
    }
   ],
   "source": [
    "%%time\n",
    "Parallel(n_jobs=-1)(delayed(download_file)(file_url) for file_url in file_url_list)\n",
    "pass # pass just so Jupyter doesn't show the list of null returns from Parallel"
   ]
  },
  {
   "cell_type": "markdown",
   "metadata": {},
   "source": [
    "## Download 15 csv files asynchronously using async and await libraries"
   ]
  },
  {
   "cell_type": "code",
   "execution_count": 9,
   "metadata": {
    "execution": {
     "iopub.execute_input": "2020-09-29T00:44:50.111750Z",
     "iopub.status.busy": "2020-09-29T00:44:50.111613Z",
     "iopub.status.idle": "2020-09-29T00:44:50.157242Z",
     "shell.execute_reply": "2020-09-29T00:44:50.156779Z",
     "shell.execute_reply.started": "2020-09-29T00:44:50.111731Z"
    }
   },
   "outputs": [],
   "source": [
    "import asyncio\n",
    "import aiofiles\n",
    "import aiohttp\n",
    "\n",
    "from typing import List"
   ]
  },
  {
   "cell_type": "code",
   "execution_count": 10,
   "metadata": {
    "execution": {
     "iopub.execute_input": "2020-09-29T00:44:50.157911Z",
     "iopub.status.busy": "2020-09-29T00:44:50.157805Z",
     "iopub.status.idle": "2020-09-29T00:44:50.161598Z",
     "shell.execute_reply": "2020-09-29T00:44:50.161146Z",
     "shell.execute_reply.started": "2020-09-29T00:44:50.157897Z"
    }
   },
   "outputs": [],
   "source": [
    "async def download_file(session: aiohttp.ClientSession, file_url: str):\n",
    "    async with session.get(file_url) as resp:\n",
    "        file_name = file_url.split(\"/\")[-1]\n",
    "        if resp.status == 200:\n",
    "            async with aiofiles.open(file_name, mode=\"wb\") as f:\n",
    "                await f.write(await resp.read())\n",
    "\n",
    "\n",
    "async def download_file_list(file_url_list: List[str]):\n",
    "    async with aiohttp.ClientSession() as session:\n",
    "        # If downloading a very large number of files you'd probably need to limit\n",
    "        # the number of concurrent requests that could be sent at once\n",
    "        tasks = [download_file(session, file_url) for file_url in file_url_list]\n",
    "        await asyncio.gather(*tasks)"
   ]
  },
  {
   "cell_type": "code",
   "execution_count": 12,
   "metadata": {
    "execution": {
     "iopub.execute_input": "2020-09-29T00:48:50.779868Z",
     "iopub.status.busy": "2020-09-29T00:48:50.779667Z",
     "iopub.status.idle": "2020-09-29T00:48:58.826689Z",
     "shell.execute_reply": "2020-09-29T00:48:58.824710Z",
     "shell.execute_reply.started": "2020-09-29T00:48:50.779845Z"
    }
   },
   "outputs": [
    {
     "name": "stdout",
     "output_type": "stream",
     "text": [
      "Wall time: 8.0s\n"
     ]
    }
   ],
   "source": [
    "import time\n",
    "t0 = time.time()\n",
    "await download_file_list(file_url_list)\n",
    "t1 = time.time()\n",
    "print(f\"Wall time: {t1 - t0:0.2}s\")\n",
    "# Using time functions since %%time magic errors when used in a cell with await"
   ]
  },
  {
   "cell_type": "code",
   "execution_count": null,
   "metadata": {},
   "outputs": [],
   "source": []
  }
 ],
 "metadata": {
  "kernelspec": {
   "display_name": "Python 3",
   "language": "python",
   "name": "python3"
  },
  "language_info": {
   "codemirror_mode": {
    "name": "ipython",
    "version": 3
   },
   "file_extension": ".py",
   "mimetype": "text/x-python",
   "name": "python",
   "nbconvert_exporter": "python",
   "pygments_lexer": "ipython3",
   "version": "3.8.5"
  }
 },
 "nbformat": 4,
 "nbformat_minor": 4
}
